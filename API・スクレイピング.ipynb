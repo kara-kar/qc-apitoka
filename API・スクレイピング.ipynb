{
 "cells": [
  {
   "cell_type": "markdown",
   "id": "4a55397a",
   "metadata": {},
   "source": [
    "# API\n",
    "#### 「API」とは、「Application Programming Interface」の頭文字でソフトウェアやプログラム、Webサービスの間をつなぐインターフェースのことを指す。\n",
    "#### APIの基本的なプロセスは「リクエスト（要求）」と「レスポンス（応答）」で構成される"
   ]
  },
  {
   "cell_type": "markdown",
   "id": "e8b059ff",
   "metadata": {},
   "source": [
    "# NewsAPI\n",
    "### 日本のロシアに関する記事"
   ]
  },
  {
   "cell_type": "code",
   "execution_count": 22,
   "id": "9f8ce3cb",
   "metadata": {},
   "outputs": [
    {
     "name": "stdout",
     "output_type": "stream",
     "text": [
      "{'status': 'ok', 'totalResults': 2, 'articles': [{'source': {'id': None, 'name': 'Yomiuri.co.jp'}, 'author': '読売新聞オンライン', 'title': 'ロシア軍が学校空爆、住民の避難場所を意図的に攻撃か…６０人死亡の恐れ - 読売新聞オンライン', 'description': 'ウクライナ東部ルハンスク（ルガンスク）州の知事は８日、ＳＮＳで、ビロホリフカ村にある学校が７日午後、露軍の空爆を受け、学校の地下に避難していた住民約９０人のうち、２人の死亡を確認したことを明らかにした。がれきの下敷きに', 'url': 'https://www.yomiuri.co.jp/world/20220508-OYT1T50062/', 'urlToImage': 'https://www.yomiuri.co.jp/media/2022/05/20220508-OYT1I50047-T.jpg?type=ogp', 'publishedAt': '2022-05-08T05:42:00Z', 'content': '298169602022/05/08 14:42:002022/05/08 15:23:022022/05/08 15:23:02https://www.yomiuri.co.jp/media/2022/05/20220508-OYT1I50047-T.jpg?type=thumbnail'}, {'source': {'id': None, 'name': 'BBC News'}, 'author': 'https://www.facebook.com/bbcnews/', 'title': 'ウクライナ・マリウポリの製鉄所から民間人全員が避難＝ウクライナとロシア両政府 - BBCニュース', 'description': 'ウクライナとロシアの両政府は7日、ウクライナ南東部マリウポリでロシア軍に包囲されていたアゾフスタリ製鉄所から、避難していた民間人女性、子供、高齢者が全員脱出したと発表した。', 'url': 'https://www.bbc.com/japanese/61368319', 'urlToImage': 'https://ichef.bbci.co.uk/news/1024/branded_japanese/16EA7/production/_124636839_hi075813435.jpg', 'publishedAt': '2022-05-08T03:48:49Z', 'content': ', EPA\\r\\n7WHO200\\r\\n300351\\r\\nICRC\\r\\n290\\r\\n82014\\r\\n5927\\r\\n9\\r\\n594\\r\\n75\\r\\n28\\r\\nBBC\\r\\n59\\r\\nWHO7224200\\r\\nWHOWHO\\r\\nWHOWHO\\r\\n40500\\r\\n7\\r\\nT-90M1T-90M100\\r\\nCIA\\r\\n4227\\r\\nUkraine live updates / Ukraine war: Civilians now out of Azov… [+21 chars]'}]}\n"
     ]
    }
   ],
   "source": [
    "!pip install -q newsapi-python\n",
    "from newsapi import NewsApiClient\n",
    "from pprint import pprint\n",
    "\n",
    "newsapi = NewsApiClient(api_key='18e8f132860b4fdb93f267e4aa9e1e2c')\n",
    "\n",
    "top_headlines = newsapi.get_top_headlines(q='ロシア', language=None, country='jp')\n",
    "\n",
    "print(top_headlines)\n"
   ]
  },
  {
   "cell_type": "markdown",
   "id": "aa76504f",
   "metadata": {},
   "source": [
    "# スクレイピング\n",
    "#### データ収集の方法の一つ\n",
    "#### 特定の目的を持ってWebやデータベースを広く探って「データを抽出する手法」のことを指す\n"
   ]
  },
  {
   "cell_type": "markdown",
   "id": "c9708a63",
   "metadata": {},
   "source": [
    "# SUUMO"
   ]
  },
  {
   "cell_type": "code",
   "execution_count": 71,
   "id": "3d32e8b7",
   "metadata": {},
   "outputs": [],
   "source": [
    "from time import sleep\n",
    "\n",
    "from bs4 import BeautifulSoup\n",
    "import requests\n",
    "import pandas as pd\n",
    "\n",
    "url = 'https://suumo.jp/chintai/tokyo/sc_shinjuku/?page={}'\n",
    "\n",
    "d_list = []\n",
    "\n"
   ]
  },
  {
   "cell_type": "code",
   "execution_count": 83,
   "id": "60b4a65a",
   "metadata": {},
   "outputs": [
    {
     "name": "stdout",
     "output_type": "stream",
     "text": [
      "d_listの大きさ： 240\n",
      "https://suumo.jp/chintai/tokyo/sc_shinjuku/?page=1\n",
      "d_listの大きさ： 387\n",
      "https://suumo.jp/chintai/tokyo/sc_shinjuku/?page=2\n"
     ]
    }
   ],
   "source": [
    "for i in range(1,3):\n",
    "    print('d_listの大きさ：', len(d_list))\n",
    "    \n",
    "    target_url = url.format(i)\n",
    "    \n",
    "    print(target_url)\n",
    "    \n",
    "    r = requests.get(target_url)\n",
    "    \n",
    "    sleep(1)\n",
    "\n",
    "    soup = BeautifulSoup(r.text)\n",
    "\n",
    "    contents = soup.find_all('div', class_='cassetteitem')\n",
    "\n",
    "    for content in contents:\n",
    "        \n",
    "        detail = content.find('div', class_='cassetteitem_content')\n",
    "        table = content.find('table', class_='cassetteitem_other')\n",
    "\n",
    "        title = detail.find('div', class_='cassetteitem_content-title').text\n",
    "        address = detail.find('li', class_='cassetteitem_detail-col1').text\n",
    "        access = detail.find('li', class_='cassetteitem_detail-col2').text\n",
    "        age = detail.find('li', class_='cassetteitem_detail-col3').text\n",
    "\n",
    "        tr_tags = table.find_all('tr', class_='js-cassette_link')\n",
    "\n",
    "        for tr_tag in tr_tags:\n",
    "            \n",
    "            floor, price, first_fee, capacity = tr_tag.find_all('td')[2:6]\n",
    "\n",
    "            fee, management_fee = price.find_all('li')\n",
    "            deposit, gratuity = first_fee.find_all('li')\n",
    "            madori, menseki = capacity.find_all('li')\n",
    "            \n",
    "            d = {\n",
    "              'title': title,\n",
    "              'address': address,\n",
    "              'access': access,\n",
    "              'age': age,\n",
    "              'floor': floor.text,\n",
    "              'fee': fee.text,\n",
    "              'management_fee': management_fee.text,\n",
    "              'deposit': deposit.text,\n",
    "              'gratuity': gratuity.text,\n",
    "              'madori': madori.text,\n",
    "              'menseki': menseki.text\n",
    "            }\n",
    "\n",
    "            d_list.append(d) \n",
    "       "
   ]
  },
  {
   "cell_type": "code",
   "execution_count": 82,
   "id": "2bed5f39",
   "metadata": {},
   "outputs": [],
   "source": [
    "df.to_csv('test.csv',index=None,encoding='utf-8-sig')"
   ]
  }
 ],
 "metadata": {
  "kernelspec": {
   "display_name": "Python 3 (ipykernel)",
   "language": "python",
   "name": "python3"
  },
  "language_info": {
   "codemirror_mode": {
    "name": "ipython",
    "version": 3
   },
   "file_extension": ".py",
   "mimetype": "text/x-python",
   "name": "python",
   "nbconvert_exporter": "python",
   "pygments_lexer": "ipython3",
   "version": "3.9.7"
  }
 },
 "nbformat": 4,
 "nbformat_minor": 5
}
